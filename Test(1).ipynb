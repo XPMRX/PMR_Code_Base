{
  "nbformat": 4,
  "nbformat_minor": 0,
  "metadata": {
    "colab": {
      "name": "Test.ipynb",
      "provenance": [],
      "collapsed_sections": []
    },
    "kernelspec": {
      "name": "python3",
      "display_name": "Python 3"
    }
  },
  "cells": [
    {
      "cell_type": "code",
      "metadata": {
        "id": "StIYVAKIBR2E",
        "colab": {
          "base_uri": "https://localhost:8080/"
        },
        "outputId": "4e4348d8-bd35-4189-b805-05985ad54f89"
      },
      "source": [
        "#Developer: Prithvi Mulpuri\r\n",
        "#Version 1.0\r\n",
        "\r\n",
        "#Install pacakages\r\n",
        "%pip install Unidecode"
      ],
      "execution_count": 1,
      "outputs": [
        {
          "output_type": "stream",
          "text": [
            "Collecting Unidecode\n",
            "\u001b[?25l  Downloading https://files.pythonhosted.org/packages/74/65/91eab655041e9e92f948cb7302e54962035762ce7b518272ed9d6b269e93/Unidecode-1.1.2-py2.py3-none-any.whl (239kB)\n",
            "\r\u001b[K     |█▍                              | 10kB 17.0MB/s eta 0:00:01\r\u001b[K     |██▊                             | 20kB 22.6MB/s eta 0:00:01\r\u001b[K     |████                            | 30kB 10.9MB/s eta 0:00:01\r\u001b[K     |█████▌                          | 40kB 9.0MB/s eta 0:00:01\r\u001b[K     |██████▉                         | 51kB 4.6MB/s eta 0:00:01\r\u001b[K     |████████▏                       | 61kB 5.1MB/s eta 0:00:01\r\u001b[K     |█████████▋                      | 71kB 5.4MB/s eta 0:00:01\r\u001b[K     |███████████                     | 81kB 6.0MB/s eta 0:00:01\r\u001b[K     |████████████▎                   | 92kB 5.6MB/s eta 0:00:01\r\u001b[K     |█████████████▊                  | 102kB 6.0MB/s eta 0:00:01\r\u001b[K     |███████████████                 | 112kB 6.0MB/s eta 0:00:01\r\u001b[K     |████████████████▍               | 122kB 6.0MB/s eta 0:00:01\r\u001b[K     |█████████████████▊              | 133kB 6.0MB/s eta 0:00:01\r\u001b[K     |███████████████████▏            | 143kB 6.0MB/s eta 0:00:01\r\u001b[K     |████████████████████▌           | 153kB 6.0MB/s eta 0:00:01\r\u001b[K     |█████████████████████▉          | 163kB 6.0MB/s eta 0:00:01\r\u001b[K     |███████████████████████▎        | 174kB 6.0MB/s eta 0:00:01\r\u001b[K     |████████████████████████▋       | 184kB 6.0MB/s eta 0:00:01\r\u001b[K     |██████████████████████████      | 194kB 6.0MB/s eta 0:00:01\r\u001b[K     |███████████████████████████▍    | 204kB 6.0MB/s eta 0:00:01\r\u001b[K     |████████████████████████████▊   | 215kB 6.0MB/s eta 0:00:01\r\u001b[K     |██████████████████████████████  | 225kB 6.0MB/s eta 0:00:01\r\u001b[K     |███████████████████████████████▍| 235kB 6.0MB/s eta 0:00:01\r\u001b[K     |████████████████████████████████| 245kB 6.0MB/s \n",
            "\u001b[?25hInstalling collected packages: Unidecode\n",
            "Successfully installed Unidecode-1.1.2\n"
          ],
          "name": "stdout"
        }
      ]
    },
    {
      "cell_type": "code",
      "metadata": {
        "id": "zkKQwVU28nsW"
      },
      "source": [
        "# Importing libraries\r\n",
        "import sys\r\n",
        "import pandas as pd\r\n",
        "import csv \r\n",
        "import json \r\n",
        "import io\r\n",
        "import unidecode"
      ],
      "execution_count": 2,
      "outputs": []
    },
    {
      "cell_type": "code",
      "metadata": {
        "id": "DXdsSaasDmWz"
      },
      "source": [
        "\r\n",
        "def make_json(csvFilePath, jsonFilePath): \r\n",
        "\t\r\n",
        "\t# create a dictionary \r\n",
        "\tdata = {} \r\n",
        "\t\r\n",
        "\t# Open a csv reader called DictReader \r\n",
        "\twith open(csvFilePath, encoding='utf-8') as csvf: \r\n",
        "\t\tcsvReader = csv.DictReader(csvf) \r\n",
        "\t\t\r\n",
        "\t\t# Convert each row into a dictionary \r\n",
        "\t\t# and add it to data \r\n",
        "\t\tfor rows in csvReader: \r\n",
        "\t\t\t\r\n",
        "\t\t\t# Assuming a column named 'user_pseudo_id' to \r\n",
        "\t\t\t# be the primary key \r\n",
        "\t\t\tkey = rows['user_pseudo_id'] \r\n",
        "\t\t\tdata[key] = rows \r\n",
        "\r\n",
        "\t# Open a json writer, and use the json.dumps() \r\n",
        "\t# function to dump data \r\n",
        "\twith open(jsonFilePath, 'w', encoding='utf-8') as jsonf: \r\n",
        "\t\tjsonf.write(json.dumps(data, indent=4)) \r\n",
        "\t\t\r\n",
        "# Driver Code \r\n",
        "# Decide the two file paths according to your \r\n",
        "# computer system \r\n",
        "jsonFilePath = ''\r\n",
        "csvFilePath = ''\r\n",
        "\r\n"
      ],
      "execution_count": 14,
      "outputs": []
    },
    {
      "cell_type": "code",
      "metadata": {
        "id": "j5Oi8N1ZERAo"
      },
      "source": [
        "csvFilePath = \"/content/sandbox-installs.csv\"\r\n",
        "def DisplayDataSumarry(csvFilePath):\r\n",
        "  #Data Cleaning\r\n",
        "  sample_data = pd.read_csv(csvFilePath)\r\n",
        "\r\n",
        "  #As these language codes cannot be clearly determined they have been replaced by 'Other_Language'.\r\n",
        "\r\n",
        "  sample_data['device_language'] = sample_data['device_language'].replace([\r\n",
        "    'ar-', 'en-', 'pt-', 'zz-zz', 'en-','pt-' ], 'Other_Language')\r\n",
        "\r\n",
        "  #Undertermined install sources have been replaced by Other_Source\r\n",
        "\r\n",
        "  sample_data['install_source'] = sample_data['install_source'].replace(['97','181', '1051',\r\n",
        "  '1048' '140', '68', '158', '1168', '409', 'æµè§ˆå™¨', '313', '104', '24', '21', '22', '19',\r\n",
        "  '866', '2', '19', '21', '22', '24', '30', '68', '97', '104', '303', '409','è‘«èŠ¦ä¾'], 'Other_Source')\r\n",
        "\r\n",
        "  #Data summary\r\n",
        "  DataSummary = sample_data\r\n",
        "\r\n",
        "  cols = ['geo_country',\t'geo_region',\t'geo_city',\t'install_source',\t'ua_name'\t, 'ua_medium',\t'ua_source',\t'device_category',\t'device_brand_name',\t'device_model_name',\t'device_os_hardware_model',\t'device_os',\t'device_os_version', 'is_limited_ad_tracking',\t'device_language']\r\n",
        "  DataSummary[cols]\r\n",
        "\r\n",
        "  \r\n",
        "  return DataSummary[cols].describe()"
      ],
      "execution_count": 6,
      "outputs": []
    },
    {
      "cell_type": "code",
      "metadata": {
        "id": "pI4wp_H7TTz_"
      },
      "source": [
        "#Task 3 - Input a CSV file and generate a SQL insert statement for all rows in the input\r\n",
        "def sql_statement_gen(outputpath = str, tabname = str, csvFilePath = str):\r\n",
        "  sample_data = pd.read_csv(csvFilePath)\r\n",
        "  df = sample_data\r\n",
        "  with io.open(outputpath, \"w\", encoding='utf-8'):\r\n",
        "    for index, row in df.iterrows():\r\n",
        "      print('INSERT INTO ' + tabname + '(\\'user_pseudo_id\\',\\'sku\\',\\'app_version\\',\\'geo_country\\',\\'geo_region\\',\\'geo_city\\',\\'install_source\\',\\'ua_name\\',\\'ua_medium\\' ,\\'ua_source\\',\\'device_category\\',\\'device_brand_name\\',\\'device_model_name\\',\\'device_os_hardware_model\\',\\'device_os\\',\\'device_os_version\\',\\'idfa\\',\\'idfv\\',\\'is_limited_ad_tracking\\',\\'device_language\\',\\'device_time_zone_offset\\',\\'timestamp_raw\\',\\'table_date\\',\\'is_returning_user\\',\\'session_id)\\') VALUES (',row['user_pseudo_id'],',',row['sku'],',',row['app_version'],',',row.astype(str)['geo_country'],',',row.astype(str)['geo_region'],',',row.astype(str)['geo_city'],',',row.astype(str)['install_source'],',', row.astype(str)['ua_name'],',', row.astype(str)['ua_medium'],',', row.astype(str)['ua_source'],',', row.astype(str)['device_category'],',',row.astype(str)['device_brand_name'],',', row.astype(str)['device_model_name'],',',\trow.astype(str)['device_os_hardware_model'],',', row.astype(str)['device_os'],',',row['device_os_version'],',',row.astype(str)['idfa'],',',row.astype(str)['idfv'],',', row.astype(str)['is_limited_ad_tracking'],',',row.astype(str)['device_language'],',',row.astype(str)['device_time_zone_offset'],',', row.astype(str)['timestamp_raw'],',', row.astype(str)['table_date'],',', row.astype(str)['is_returning_user'],',\\''+row.astype(str)['session_id']+'\\');', file=open(outputpath, \"a\", encoding='utf-8'))\r\n",
        "  return"
      ],
      "execution_count": 16,
      "outputs": []
    },
    {
      "cell_type": "code",
      "metadata": {
        "colab": {
          "base_uri": "https://localhost:8080/"
        },
        "id": "yFKTgQMdBfQI",
        "outputId": "064849a1-7f29-45dc-897a-f3b09011e946"
      },
      "source": [
        "if __name__ == \"__main__\":\r\n",
        "    csvFilePath = input(\"please enter csv file path : \")\r\n",
        "    jsonFilePath = input(\"please enter json file path : \")\r\n",
        "    make_json(csvFilePath,jsonFilePath)\r\n",
        "    print(\"JSON file has been generated successfully\")\r\n",
        "    csv_file = input(\"Please Enter csv file name : \")\r\n",
        "    Disp = DisplayDataSumarry(csv_file)\r\n",
        "    print(\"--------------------------------------------------Data Summary-------------------------------------\")\r\n",
        "    print(Disp)\r\n",
        "    outputpath = input(\"please enter output.txt file path to save sql insert statements : \")\r\n",
        "    sql_statement_gen(outputpath = outputpath, tabname=\"DataSum\", csvFilePath = csvFilePath)\r\n",
        "    print(\"sql insert statements output file has been successfully generated\")"
      ],
      "execution_count": null,
      "outputs": [
        {
          "output_type": "stream",
          "text": [
            "please enter csv file path : /content/sandbox-installs.csv\n",
            "please enter json file path : /content/sandbox-installs.json\n",
            "JSON file has been generated successfully\n",
            "Please Enter csv file name : sandbox-installs.csv\n",
            "--------------------------------------------------Data Summary-------------------------------------\n",
            "       geo_country          geo_region  ... is_limited_ad_tracking device_language\n",
            "count        15960               14292  ...                  16000           16000\n",
            "unique          37                 211  ...                      2             192\n",
            "top          India  State of Sao Paulo  ...                     No           pt-br\n",
            "freq          4047                 660  ...                  15660            2266\n",
            "\n",
            "[4 rows x 15 columns]\n",
            "please enter output.txt file path to save sql insert statements : /content/output.txt\n"
          ],
          "name": "stdout"
        }
      ]
    }
  ]
}